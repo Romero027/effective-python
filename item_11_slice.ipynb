{
 "cells": [
  {
   "cell_type": "markdown",
   "metadata": {},
   "source": [
    "# Item 11: Know how to slice sequences"
   ]
  },
  {
   "cell_type": "markdown",
   "metadata": {},
   "source": [
    "The basic form of the slicing syntax is somelist[start:end], where start is inclusive and end is exclusive"
   ]
  },
  {
   "cell_type": "code",
   "execution_count": 2,
   "metadata": {},
   "outputs": [
    {
     "name": "stdout",
     "output_type": "stream",
     "text": [
      "Middle two:  [4, 5]\n",
      "All but ends:  [2, 3, 4, 5, 6, 7]\n"
     ]
    }
   ],
   "source": [
    "a = [1, 2, 3, 4, 5, 6, 7, 8]\n",
    "print('Middle two: ', a[3:5])\n",
    "print('All but ends: ', a[1:7])"
   ]
  },
  {
   "cell_type": "markdown",
   "metadata": {},
   "source": [
    "When starting from the start of the list, you should leave out the zero index. Likewise, when slicing to the end of the a list, you should leave out the final index."
   ]
  },
  {
   "cell_type": "code",
   "execution_count": 3,
   "metadata": {},
   "outputs": [],
   "source": [
    "assert a[:5] == a[0:5]\n",
    "assert a[5:] == a[5:len(a)]"
   ]
  },
  {
   "cell_type": "markdown",
   "metadata": {},
   "source": [
    "Slicing deals properly with start and end indexes that are beyond the boundaries of a list by sliently omitting the misisng items"
   ]
  },
  {
   "cell_type": "code",
   "execution_count": 5,
   "metadata": {},
   "outputs": [],
   "source": [
    "first_twenty = a[:20]\n",
    "last_twenty = a[-20:]"
   ]
  },
  {
   "cell_type": "markdown",
   "metadata": {},
   "source": [
    "The result of slicing a list is a whole new list.  "
   ]
  },
  {
   "cell_type": "code",
   "execution_count": 7,
   "metadata": {},
   "outputs": [
    {
     "name": "stdout",
     "output_type": "stream",
     "text": [
      "Before:  [4, 5, 6, 7, 8]\n",
      "After:  [4, 99, 6, 7, 8]\n",
      "No change:  [1, 2, 3, 4, 5, 6, 7, 8]\n"
     ]
    }
   ],
   "source": [
    "b = a[3:]\n",
    "print('Before: ', b)\n",
    "b[1] = 99\n",
    "print('After: ', b)\n",
    "print('No change: ', a)"
   ]
  },
  {
   "cell_type": "markdown",
   "metadata": {},
   "source": [
    "Unlike unpacking, when you try to replace a specific range in the list, the lengths of slice assignments don't need to be the same."
   ]
  },
  {
   "cell_type": "code",
   "execution_count": 8,
   "metadata": {},
   "outputs": [
    {
     "name": "stdout",
     "output_type": "stream",
     "text": [
      "before:  [1, 2, 3, 4, 5, 6, 7, 8]\n",
      "After:  [1, 2, 88, 8]\n"
     ]
    }
   ],
   "source": [
    "print('before: ', a)\n",
    "a[2:7] = [88]\n",
    "print('After: ', a)"
   ]
  },
  {
   "cell_type": "markdown",
   "metadata": {},
   "source": [
    "If you leave out both the start and the end indexesm you end up woth a copy of the original list(still shallow copy)"
   ]
  },
  {
   "cell_type": "code",
   "execution_count": 9,
   "metadata": {},
   "outputs": [
    {
     "name": "stdout",
     "output_type": "stream",
     "text": [
      "[1, 2, 88, 8]\n"
     ]
    }
   ],
   "source": [
    "c = a[:]\n",
    "c[0] = 0\n",
    "print('No change: ', a)"
   ]
  },
  {
   "cell_type": "markdown",
   "metadata": {},
   "source": [
    "If you want a deep copy: "
   ]
  },
  {
   "cell_type": "code",
   "execution_count": 10,
   "metadata": {},
   "outputs": [
    {
     "name": "stdout",
     "output_type": "stream",
     "text": [
      "before:  [1, 2, 88, 8]\n",
      "before:  [1, 2, 88, 8]\n",
      "after:  [999, 2, 88, 8]\n",
      "after:  [999, 2, 88, 8]\n"
     ]
    }
   ],
   "source": [
    "d = a\n",
    "print('before: ', a)\n",
    "print('before: ', d)\n",
    "d[0] = 999\n",
    "print('after: ', a)\n",
    "print('after: ', d)"
   ]
  },
  {
   "cell_type": "code",
   "execution_count": null,
   "metadata": {},
   "outputs": [],
   "source": []
  }
 ],
 "metadata": {
  "kernelspec": {
   "display_name": "Python 3",
   "language": "python",
   "name": "python3"
  },
  "language_info": {
   "codemirror_mode": {
    "name": "ipython",
    "version": 3
   },
   "file_extension": ".py",
   "mimetype": "text/x-python",
   "name": "python",
   "nbconvert_exporter": "python",
   "pygments_lexer": "ipython3",
   "version": "3.7.4"
  }
 },
 "nbformat": 4,
 "nbformat_minor": 2
}
