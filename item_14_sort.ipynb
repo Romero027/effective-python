{
 "cells": [
  {
   "cell_type": "markdown",
   "metadata": {},
   "source": [
    "# Item 14: Sort by complex criteria using the key parameter\n",
    "Python has built-in sorting method. By default, sort will order a list's contents by the natural ascending order of the items"
   ]
  },
  {
   "cell_type": "code",
   "execution_count": 2,
   "metadata": {},
   "outputs": [
    {
     "name": "stdout",
     "output_type": "stream",
     "text": [
      "[1, 23, 41, 81, 123]\n"
     ]
    }
   ],
   "source": [
    "numbers = [81, 23, 123, 1, 41]\n",
    "numbers.sort()\n",
    "print(numbers)"
   ]
  },
  {
   "cell_type": "markdown",
   "metadata": {},
   "source": [
    "However, it only works for most built-in types"
   ]
  },
  {
   "cell_type": "code",
   "execution_count": 3,
   "metadata": {},
   "outputs": [
    {
     "ename": "TypeError",
     "evalue": "'<' not supported between instances of 'Tool' and 'Tool'",
     "output_type": "error",
     "traceback": [
      "\u001b[0;31m---------------------------------------------------------------------------\u001b[0m",
      "\u001b[0;31mTypeError\u001b[0m                                 Traceback (most recent call last)",
      "\u001b[0;32m<ipython-input-3-5e359fb40347>\u001b[0m in \u001b[0;36m<module>\u001b[0;34m\u001b[0m\n\u001b[1;32m     14\u001b[0m     \u001b[0mTool\u001b[0m\u001b[0;34m(\u001b[0m\u001b[0;34m'chisel'\u001b[0m\u001b[0;34m,\u001b[0m \u001b[0;36m1\u001b[0m\u001b[0;34m)\u001b[0m\u001b[0;34m,\u001b[0m\u001b[0;34m\u001b[0m\u001b[0;34m\u001b[0m\u001b[0m\n\u001b[1;32m     15\u001b[0m ]\n\u001b[0;32m---> 16\u001b[0;31m \u001b[0mtools\u001b[0m\u001b[0;34m.\u001b[0m\u001b[0msort\u001b[0m\u001b[0;34m(\u001b[0m\u001b[0;34m)\u001b[0m \u001b[0;31m# Error!\u001b[0m\u001b[0;34m\u001b[0m\u001b[0;34m\u001b[0m\u001b[0m\n\u001b[0m",
      "\u001b[0;31mTypeError\u001b[0m: '<' not supported between instances of 'Tool' and 'Tool'"
     ]
    }
   ],
   "source": [
    "class Tool:\n",
    "    def __init__(self, name, weight):\n",
    "        self.name = name\n",
    "        self.weight = weight\n",
    "\n",
    "    def __repr__(self):\n",
    "        return f'Tool({self.name}, {self.weight})'\n",
    "\n",
    "\n",
    "tools = [\n",
    "    Tool('level', 3),\n",
    "    Tool('hammer', 4),\n",
    "    Tool('screwdriver', 2),\n",
    "    Tool('chisel', 1),\n",
    "]\n",
    "\n",
    "#tools.sort() # Error!"
   ]
  },
  {
   "cell_type": "markdown",
   "metadata": {},
   "source": [
    "To support sorting customized types, sort function accepts a key function"
   ]
  },
  {
   "cell_type": "code",
   "execution_count": 4,
   "metadata": {},
   "outputs": [
    {
     "name": "stdout",
     "output_type": "stream",
     "text": [
      "Unsorted: [Tool(level, 3), Tool(hammer, 4), Tool(screwdriver, 2), Tool(chisel, 1)]\n",
      "\n",
      "Sorted  [Tool(chisel, 1), Tool(hammer, 4), Tool(level, 3), Tool(screwdriver, 2)]\n"
     ]
    }
   ],
   "source": [
    "print('Unsorted:', repr(tools))\n",
    "tools.sort(key=lambda x: x.name)\n",
    "print('\\nSorted ', tools)"
   ]
  },
  {
   "cell_type": "markdown",
   "metadata": {},
   "source": [
    "key function can also be used to do transformations on the values before sorting"
   ]
  },
  {
   "cell_type": "code",
   "execution_count": 5,
   "metadata": {},
   "outputs": [
    {
     "name": "stdout",
     "output_type": "stream",
     "text": [
      "case sensitive  ['New york', 'Paris', 'home', 'work']\n",
      "case insensitive  ['home', 'New york', 'Paris', 'work']\n"
     ]
    }
   ],
   "source": [
    "places = ['home', 'New york', 'Paris', 'work']\n",
    "places.sort()\n",
    "print('case sensitive ', places)\n",
    "places.sort(key=lambda x: x.lower())\n",
    "print('case insensitive ', places)"
   ]
  },
  {
   "cell_type": "markdown",
   "metadata": {},
   "source": [
    "TO use multiple criteria for sorting, The simplest solution is to use the tuple type. Tuple are comparable by default and have a natural ordering"
   ]
  },
  {
   "cell_type": "code",
   "execution_count": 6,
   "metadata": {},
   "outputs": [
    {
     "name": "stdout",
     "output_type": "stream",
     "text": [
      "[Tool(drill, 4), Tool(sander, 4), Tool(circular saw, 5), Tool(jackhammer, 40)]\n"
     ]
    }
   ],
   "source": [
    "power_tools = [\n",
    "    Tool('drill', 4),\n",
    "    Tool('circular saw', 5),\n",
    "    Tool('jackhammer', 40),\n",
    "    Tool('sander', 4),\n",
    "]\n",
    "\n",
    "power_tools.sort(key=lambda x: (x.weight, x.name))\n",
    "print(power_tools)"
   ]
  },
  {
   "cell_type": "markdown",
   "metadata": {},
   "source": [
    "If you want to sort multiple criteria in different direction, you can sort it twice(python's sort is stable) or use unary negation"
   ]
  },
  {
   "cell_type": "code",
   "execution_count": null,
   "metadata": {},
   "outputs": [],
   "source": []
  }
 ],
 "metadata": {
  "kernelspec": {
   "display_name": "Python 3",
   "language": "python",
   "name": "python3"
  },
  "language_info": {
   "codemirror_mode": {
    "name": "ipython",
    "version": 3
   },
   "file_extension": ".py",
   "mimetype": "text/x-python",
   "name": "python",
   "nbconvert_exporter": "python",
   "pygments_lexer": "ipython3",
   "version": "3.7.4"
  }
 },
 "nbformat": 4,
 "nbformat_minor": 2
}
