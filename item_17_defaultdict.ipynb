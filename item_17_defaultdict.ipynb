{
 "cells": [
  {
   "cell_type": "markdown",
   "metadata": {},
   "source": [
    "# Item 17: Prefer defaultdict over setdefault to handle missing items in internal state\n"
   ]
  },
  {
   "cell_type": "markdown",
   "metadata": {},
   "source": [
    "For example, say that I want to keep track of the cities I've visited in contries around the world. "
   ]
  },
  {
   "cell_type": "code",
   "execution_count": 3,
   "metadata": {},
   "outputs": [
    {
     "name": "stdout",
     "output_type": "stream",
     "text": [
      "{'Mexico': {'Tulum', 'Puerto Vallarta'}, 'Japan': {'Hakone'}, 'France': {'Arles'}}\n"
     ]
    }
   ],
   "source": [
    "visits = {\n",
    "    'Mexico' : {'Tulum', 'Puerto Vallarta'},\n",
    "    'Japan' : {'Hakone'},\n",
    "}\n",
    "\n",
    "# Using setdefault: short but confusing\n",
    "visits.setdefault('France', set()).add('Arles')\n",
    "\n",
    "# Using get: long\n",
    "#If (japan := visits.get('Japan')) is None:\n",
    "#    visits['Japan'] = japan = set()\n",
    "#japan.add('Kyoto')\n",
    "print(visits)"
   ]
  },
  {
   "cell_type": "markdown",
   "metadata": {},
   "source": [
    "Best way: use the default class from the collections built-in module"
   ]
  },
  {
   "cell_type": "code",
   "execution_count": 4,
   "metadata": {},
   "outputs": [
    {
     "name": "stdout",
     "output_type": "stream",
     "text": [
      "defaultdict(<class 'set'>, {'China': {'Shanghai', 'Beijing'}})\n"
     ]
    }
   ],
   "source": [
    "from collections import defaultdict\n",
    "\n",
    "class Visits:\n",
    "    def __init__(self):\n",
    "        self.data = defaultdict(set)\n",
    "    \n",
    "    def add(self, country, city):\n",
    "        self.data[country].add(city)\n",
    "        \n",
    "visits = Visits()\n",
    "visits.add('China', 'Beijing')\n",
    "visits.add('China', 'Shanghai')\n",
    "print(visits.data)"
   ]
  },
  {
   "cell_type": "code",
   "execution_count": null,
   "metadata": {},
   "outputs": [],
   "source": []
  }
 ],
 "metadata": {
  "kernelspec": {
   "display_name": "Python 3",
   "language": "python",
   "name": "python3"
  },
  "language_info": {
   "codemirror_mode": {
    "name": "ipython",
    "version": 3
   },
   "file_extension": ".py",
   "mimetype": "text/x-python",
   "name": "python",
   "nbconvert_exporter": "python",
   "pygments_lexer": "ipython3",
   "version": "3.7.4"
  }
 },
 "nbformat": 4,
 "nbformat_minor": 2
}
